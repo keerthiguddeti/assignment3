{
 "cells": [
  {
   "cell_type": "markdown",
   "id": "6db76e6e",
   "metadata": {},
   "source": [
    "1.write a python program that print the numbers from 0 to 6 except 3 and 6"
   ]
  },
  {
   "cell_type": "code",
   "execution_count": 1,
   "id": "a545c840",
   "metadata": {},
   "outputs": [
    {
     "name": "stdout",
     "output_type": "stream",
     "text": [
      "0\n",
      "1\n",
      "2\n",
      "4\n",
      "5\n"
     ]
    }
   ],
   "source": [
    "for num in range(0,7):\n",
    "    if num==3 or num==6:\n",
    "        continue\n",
    "    print(num)"
   ]
  },
  {
   "cell_type": "markdown",
   "id": "727bcb2a",
   "metadata": {},
   "source": [
    "2.write a python program to accept a number from a user and calculate the sum of allnumbers from 1 to a given number"
   ]
  },
  {
   "cell_type": "code",
   "execution_count": 1,
   "id": "ac11f4c5",
   "metadata": {},
   "outputs": [
    {
     "name": "stdout",
     "output_type": "stream",
     "text": [
      "Enter your number:45\n",
      "Total = 1035\n"
     ]
    }
   ],
   "source": [
    "number=int(input(\"Enter your number:\"))\n",
    "total=0\n",
    "for i in range(0,number+1):\n",
    "    total+=i\n",
    "print(\"Total = {}\".format(total))\n"
   ]
  },
  {
   "cell_type": "code",
   "execution_count": 2,
   "id": "b1be4de5",
   "metadata": {},
   "outputs": [
    {
     "name": "stdout",
     "output_type": "stream",
     "text": [
      "Enter your number:34\n",
      "34 x 1 = 34\n",
      "34 x 2 = 68\n",
      "34 x 3 = 102\n",
      "34 x 4 = 136\n",
      "34 x 5 = 170\n",
      "34 x 6 = 204\n",
      "34 x 7 = 238\n",
      "34 x 8 = 272\n",
      "34 x 9 = 306\n",
      "34 x 10 = 340\n"
     ]
    }
   ],
   "source": [
    " #3.)Write a program to print multiplication table of a given number(input)\n",
    "#for loop\n",
    "\n",
    "num=int(input(\"Enter your number:\"))\n",
    "for i in range(1,11):\n",
    "    print(\"{} x {} = {}\".format(num,i,num*i))\n",
    "\n"
   ]
  },
  {
   "cell_type": "code",
   "execution_count": 3,
   "id": "daca87aa",
   "metadata": {},
   "outputs": [
    {
     "name": "stdout",
     "output_type": "stream",
     "text": [
      "Enter your number:2\n",
      "2 x 1 = 2\n",
      "2 x 2 = 4\n",
      "2 x 3 = 6\n",
      "2 x 4 = 8\n",
      "2 x 5 = 10\n",
      "2 x 6 = 12\n",
      "2 x 7 = 14\n",
      "2 x 8 = 16\n",
      "2 x 9 = 18\n",
      "2 x 10 = 20\n"
     ]
    }
   ],
   "source": [
    "#While loop\n",
    "num=int(input(\"Enter your number:\"))\n",
    "x=True\n",
    "while x:\n",
    "    for i in range(1,11):\n",
    "        print(\"{} x {} = {}\".format(num,i,num*i))\n",
    "        x=False"
   ]
  },
  {
   "cell_type": "markdown",
   "id": "f1e72230",
   "metadata": {},
   "source": [
    "###### 4) Write a program to count the total number of digits in a number using a while loop.\n",
    "\n"
   ]
  },
  {
   "cell_type": "code",
   "execution_count": 14,
   "id": "536e72c6",
   "metadata": {},
   "outputs": [
    {
     "name": "stdout",
     "output_type": "stream",
     "text": [
      "Number of digits: 4\n"
     ]
    }
   ],
   "source": [
    "#while loop\n",
    "num = 3452\n",
    "count = 0\n",
    "while num != 0:\n",
    "    num //= 10\n",
    "    count += 1\n",
    "print(\"Number of digits: \" + str(count))\n"
   ]
  },
  {
   "cell_type": "markdown",
   "id": "582aa266",
   "metadata": {},
   "source": [
    "###### 5) Write a Python program to guess a number between 1 to 6\n",
    "\n"
   ]
  },
  {
   "cell_type": "code",
   "execution_count": 16,
   "id": "8428fab6",
   "metadata": {},
   "outputs": [
    {
     "name": "stdout",
     "output_type": "stream",
     "text": [
      "Please provide any number here : 1\n",
      "Please provide any number here : 2\n",
      "Please provide any number here : 3\n",
      "Good Guess\n"
     ]
    }
   ],
   "source": [
    "#while loop\n",
    "num=int(input(\"Please provide any number here : \"))\n",
    "from random import shuffle\n",
    "dice=[1,2,3,4,5,6]\n",
    "shuffle(dice)\n",
    "for i in dice:\n",
    "    if dice[0]==num:\n",
    "        print(\"Good Guess\")\n",
    "        break\n",
    "    else:\n",
    "        num=int(input(\"Please provide any number here : \"))\n",
    "        continue\n"
   ]
  },
  {
   "cell_type": "markdown",
   "id": "099fa10c",
   "metadata": {},
   "source": [
    "##### 6. Write a Python program which iterates the integers from 1 to 60. For multiples of three print \"Fizz\" instead of the   number and for the multiples of five print \"Buzz\". For numbers which are multiples of both three and five print \"FizzBuzz\".\n",
    "\n"
   ]
  },
  {
   "cell_type": "code",
   "execution_count": 17,
   "id": "cdcaf2b2",
   "metadata": {},
   "outputs": [
    {
     "name": "stdout",
     "output_type": "stream",
     "text": [
      "1\n",
      "2\n",
      "Fizz\n",
      "4\n",
      "Buzz\n",
      "Fizz\n",
      "7\n",
      "8\n",
      "Fizz\n",
      "Buzz\n",
      "11\n",
      "Fizz\n",
      "13\n",
      "14\n",
      "Fizz\n",
      "16\n",
      "17\n",
      "Fizz\n",
      "19\n",
      "Buzz\n",
      "Fizz\n",
      "22\n",
      "23\n",
      "Fizz\n",
      "Buzz\n",
      "26\n",
      "Fizz\n",
      "28\n",
      "29\n",
      "Fizz\n",
      "31\n",
      "32\n",
      "Fizz\n",
      "34\n",
      "Buzz\n",
      "Fizz\n",
      "37\n",
      "38\n",
      "Fizz\n",
      "Buzz\n",
      "41\n",
      "Fizz\n",
      "43\n",
      "44\n",
      "Fizz\n",
      "46\n",
      "47\n",
      "Fizz\n",
      "49\n",
      "Buzz\n",
      "Fizz\n",
      "52\n",
      "53\n",
      "Fizz\n",
      "Buzz\n",
      "56\n",
      "Fizz\n",
      "58\n",
      "59\n",
      "Fizz\n"
     ]
    }
   ],
   "source": [
    "for i in range(1,61):\n",
    "    if i%3==0:\n",
    "        print(\"Fizz\")\n",
    "    elif i%5==0:\n",
    "        print(\"Buzz\")\n",
    "    elif i%3==0 and i%5==0:\n",
    "        print(\"FizzBuzz\")\n",
    "    else:\n",
    "        print(i)\n",
    "\n"
   ]
  },
  {
   "cell_type": "code",
   "execution_count": 18,
   "id": "e305ebe9",
   "metadata": {},
   "outputs": [
    {
     "name": "stdout",
     "output_type": "stream",
     "text": [
      "1\n",
      "2\n",
      "Fizz\n",
      "4\n",
      "Buzz\n",
      "Fizz\n",
      "7\n",
      "8\n",
      "Fizz\n",
      "Buzz\n",
      "11\n",
      "Fizz\n",
      "13\n",
      "14\n",
      "Fizz\n",
      "16\n",
      "17\n",
      "Fizz\n",
      "19\n",
      "Buzz\n",
      "Fizz\n",
      "22\n",
      "23\n",
      "Fizz\n",
      "Buzz\n",
      "26\n",
      "Fizz\n",
      "28\n",
      "29\n",
      "Fizz\n",
      "31\n",
      "32\n",
      "Fizz\n",
      "34\n",
      "Buzz\n",
      "Fizz\n",
      "37\n",
      "38\n",
      "Fizz\n",
      "Buzz\n",
      "41\n",
      "Fizz\n",
      "43\n",
      "44\n",
      "Fizz\n",
      "46\n",
      "47\n",
      "Fizz\n",
      "49\n",
      "Buzz\n",
      "Fizz\n",
      "52\n",
      "53\n",
      "Fizz\n",
      "Buzz\n",
      "56\n",
      "Fizz\n",
      "58\n",
      "59\n"
     ]
    }
   ],
   "source": [
    "i=1\n",
    "while i<60:\n",
    "    if i%3==0:\n",
    "        print(\"Fizz\")\n",
    "    elif i%5==0:\n",
    "        print(\"Buzz\")\n",
    "    elif i%3==0 and i%5==0:\n",
    "        print(\"FizzBuzz\")\n",
    "    else:\n",
    "        print(i)\n",
    "    i+=1\n"
   ]
  },
  {
   "cell_type": "markdown",
   "id": "2ef4a904",
   "metadata": {},
   "source": [
    "###### 7.  Write a Python program that accepts a string and calculate the number of digits and letters Example:Input Python 3.2 Output Letters 6 Digits 2"
   ]
  },
  {
   "cell_type": "code",
   "execution_count": 4,
   "id": "c8db1ab6",
   "metadata": {},
   "outputs": [
    {
     "name": "stdout",
     "output_type": "stream",
     "text": [
      "Type your number here :python3.2\n",
      "digits in python3.2 : 2\n",
      "letters in python3.2 : 2\n"
     ]
    }
   ],
   "source": [
    "string=input(\"Type your input here :\")\n",
    "digits=0\n",
    "letters=0\n",
    "for elements in string:\n",
    "    if elements.isdigit():\n",
    "        digits+=1\n",
    "    elif elements.isalpha():\n",
    "        letters+=1\n",
    "print(\"digits in {} : {}\".format(string,digits))\n",
    "print(\"letters in {} : {}\".format(string,digits))"
   ]
  },
  {
   "cell_type": "code",
   "execution_count": 4,
   "id": "9f1f00cb",
   "metadata": {},
   "outputs": [
    {
     "name": "stdout",
     "output_type": "stream",
     "text": [
      "Type your input here :siddu3.0\n",
      "digits in siddu3.0 : 0\n",
      "letters in siddu3.0 : 0\n"
     ]
    }
   ],
   "source": [
    "string=input(\"Type your input here :\")\n",
    "digits=0\n",
    "letters=0\n",
    "x=True\n",
    "while x:\n",
    "    for elements in string:\n",
    "        if elements.isdigit():\n",
    "            digit+=1\n",
    "        elif elements.isalpha():\n",
    "            letters+=1\n",
    "    x=False\n",
    "print(\"digits in {} : {}\".format(string,digits))\n",
    "print(\"letters in {} : {}\".format(string,digits))            "
   ]
  },
  {
   "cell_type": "markdown",
   "id": "e10d00a9",
   "metadata": {},
   "source": [
    "###### 8. Write a Python program to check the validity of password input by users. Validation: At least 1 letter between [a-z] and 1 letter between [A-Z].  At least 1 number between [0-9].  At least 1 character from [$#@]. Minimum length 6 characters. Maximum length 16 characters.\n"
   ]
  },
  {
   "cell_type": "code",
   "execution_count": 1,
   "id": "aaf81d96",
   "metadata": {},
   "outputs": [
    {
     "name": "stdout",
     "output_type": "stream",
     "text": [
      "Keerthi@123\n",
      "OK\n",
      "You have given valid Password.\n"
     ]
    }
   ],
   "source": [
    "password=input()\n",
    "lowercase=0\n",
    "uppercase=0\n",
    "num=0\n",
    "sym=0\n",
    "symbol=[\"@\",\"$\",\"#\"]\n",
    "for elements in password:\n",
    "    if elements.isalpha():\n",
    "        if elements==elements.upper():\n",
    "            uppercase+=1\n",
    "        elif elements==elements.lower():\n",
    "            lowercase+=1\n",
    "    elif elements in symbol:\n",
    "        sym+=1\n",
    "    elif int(elements) in range(0,10):\n",
    "        num+=1\n",
    "if len(password)<6:\n",
    "    print(\"Your Password must contain atleast 6 charecters\")\n",
    "elif len(password)>16:\n",
    "    print(\"Your Password length is greater than limits, Please reduce some charecters\")\n",
    "elif num==0:\n",
    "    print(\"Please include numbers inside your password\")\n",
    "elif uppercase==0:\n",
    "    print(\"Please include upperr case letters inside your password\")\n",
    "elif lowercase==0:\n",
    "    print(\"Please include lower case letters inside your password\")\n",
    "else:\n",
    "    print(\"OK\\nYou have given valid Password.\")\n"
   ]
  },
  {
   "cell_type": "markdown",
   "id": "e50f057b",
   "metadata": {},
   "source": [
    "##### 9.  Write a program in Python to reverse a word by using while loop\n"
   ]
  },
  {
   "cell_type": "code",
   "execution_count": 2,
   "id": "85ab644b",
   "metadata": {},
   "outputs": [
    {
     "name": "stdout",
     "output_type": "stream",
     "text": [
      "Enter : \n",
      "keerthi\n",
      "ihtreek \n"
     ]
    }
   ],
   "source": [
    "print(\"Enter : \")\n",
    "word=input()\n",
    "length=len(word)\n",
    "reverse=\"\"\n",
    "while length > 0:\n",
    "    reverse+=word[length-1]\n",
    "    length=length-1\n",
    "print(\"{} \".format(reverse))"
   ]
  },
  {
   "cell_type": "markdown",
   "id": "e20200d6",
   "metadata": {},
   "source": [
    "###### 10. Write a program which takes 10 integers as input using loop and print their average value on the screen\n"
   ]
  },
  {
   "cell_type": "code",
   "execution_count": 3,
   "id": "042cf155",
   "metadata": {},
   "outputs": [
    {
     "name": "stdout",
     "output_type": "stream",
     "text": [
      "enter a number 2\n",
      "enter a number 5\n",
      "enter a number 7\n",
      "enter a number 8\n",
      "enter a number 6\n",
      "enter a number 1\n",
      "enter a number 3\n",
      "enter a number 4\n",
      "enter a number 9\n",
      "enter a number 4\n",
      "the average of given values is  4.9\n"
     ]
    }
   ],
   "source": [
    "b=[]\n",
    "for i in range(0,10):\n",
    "    a=int(input(\"enter a number \"))\n",
    "    b.append(a)\n",
    "print(\"the average of given values is \",(sum(b)/len(b)))\n"
   ]
  },
  {
   "cell_type": "code",
   "execution_count": 4,
   "id": "11f996e1",
   "metadata": {},
   "outputs": [
    {
     "name": "stdout",
     "output_type": "stream",
     "text": [
      "enter a number 1\n",
      "enter a number 2\n",
      "enter a number 3\n",
      "enter a number 4\n",
      "enter a number 5\n",
      "enter a number 6\n",
      "enter a number 7\n",
      "enter a number 8\n",
      "enter a number 9\n",
      "enter a number 3\n",
      "the average of the given numbers is  4.8\n"
     ]
    }
   ],
   "source": [
    "b=[]\n",
    "c=1\n",
    "while c<=10:\n",
    "    c+=1\n",
    "    a=int(input(\"enter a number \"))\n",
    "    b.append(a)\n",
    "print(\"the average of the given numbers is \",sum(b)/len(b))"
   ]
  },
  {
   "cell_type": "markdown",
   "id": "f2413440",
   "metadata": {},
   "source": [
    "###### 11. Write a program which takes integer inputs from user until he/she presses “q” (Ask to press q to quit after every integer input). Print average and product of all numbers.\n"
   ]
  },
  {
   "cell_type": "code",
   "execution_count": 5,
   "id": "8201bb3e",
   "metadata": {},
   "outputs": [
    {
     "name": "stdout",
     "output_type": "stream",
     "text": [
      "enter numbers in the provided boxes findout their average and the product :\n",
      "give a number : 22\n",
      "if you want to exit press - q\n",
      "give a number : 33\n",
      "if you want to exit press - q\n",
      "give a number : 44\n",
      "if you want to exit press - q\n",
      "give a number : 456\n",
      "if you want to exit press - q\n",
      "give a number : 432\n",
      "if you want to exit press - q\n",
      "give a number : q\n",
      "\n",
      "Product = 6292712448\n",
      "Average = 197.4\n"
     ]
    }
   ],
   "source": [
    "print(\"enter numbers in the provided boxes findout their average and the product :\")\n",
    "numbers=[]\n",
    "newnum=[]\n",
    "product=1\n",
    "while True:\n",
    "    num=input(\"give a number : \")\n",
    "    if num==\"q\":\n",
    "        break\n",
    "    print(\"if you want to exit press - q\")\n",
    "    numbers.append(num)\n",
    "for j in numbers:\n",
    "    a=int(j)\n",
    "    newnum.append(a)\n",
    "for i in newnum:\n",
    "    product=product*i\n",
    "total=sum(newnum)\n",
    "average=total/len(newnum)\n",
    "print(\"\\nProduct = {}\".format(product))\n",
    "print(\"Average = {}\".format(average))\n",
    "\n",
    "\n"
   ]
  },
  {
   "cell_type": "markdown",
   "id": "d92ec3ce",
   "metadata": {},
   "source": [
    "#### 12. Write a Python program which will remove all digits or any other characters from the string except alphabets\n"
   ]
  },
  {
   "cell_type": "code",
   "execution_count": 6,
   "id": "47ac5a8f",
   "metadata": {},
   "outputs": [
    {
     "name": "stdout",
     "output_type": "stream",
     "text": [
      "Type your input here : asd12.asd22\n",
      "asdasd\n"
     ]
    }
   ],
   "source": [
    "name=input(\"Type your input here : \")\n",
    "new=\"\"\n",
    "for letters in name:\n",
    "    if letters.isalpha():\n",
    "        new+=letters\n",
    "    else:\n",
    "        continue\n",
    "print(new)\n"
   ]
  },
  {
   "cell_type": "code",
   "execution_count": 7,
   "id": "cba4a93f",
   "metadata": {},
   "outputs": [
    {
     "name": "stdout",
     "output_type": "stream",
     "text": [
      "Type your input here : keerthi21.reddy21\n",
      "keerthireddy\n"
     ]
    }
   ],
   "source": [
    "name=input(\"Type your input here : \")\n",
    "new=\"\"\n",
    "x=True\n",
    "while x:\n",
    "    for letters in name:\n",
    "        if letters.isalpha():\n",
    "            new+=letters\n",
    "        else:\n",
    "            continue\n",
    "    x=False\n",
    "print(new)"
   ]
  },
  {
   "cell_type": "markdown",
   "id": "7ea2e326",
   "metadata": {},
   "source": [
    "##### 13. Write a python program to find the sum of all even numbers from 0 to 10\n"
   ]
  },
  {
   "cell_type": "code",
   "execution_count": 9,
   "id": "772aea51",
   "metadata": {},
   "outputs": [
    {
     "name": "stdout",
     "output_type": "stream",
     "text": [
      "Sum of all even numbers from 0 to 10 are :-. 30\n"
     ]
    }
   ],
   "source": [
    "total=0\n",
    "for num in range(0,11):\n",
    "    if num%2==0:\n",
    "        total+=num\n",
    "print(\"Sum of all even numbers from 0 to 10 are :-. {}\".format(total))\n"
   ]
  },
  {
   "cell_type": "code",
   "execution_count": 10,
   "id": "43fbca43",
   "metadata": {},
   "outputs": [
    {
     "name": "stdout",
     "output_type": "stream",
     "text": [
      "Sum of all even numbers from 0 to 10 are :-. 30\n"
     ]
    }
   ],
   "source": [
    "total=0\n",
    "x=True\n",
    "while x:\n",
    "    for num in range(0,11):\n",
    "        if num%2==0:\n",
    "            total+=num\n",
    "    x=False\n",
    "print(\"Sum of all even numbers from 0 to 10 are :-. {}\".format(total))\n",
    "\n"
   ]
  },
  {
   "cell_type": "markdown",
   "id": "b3f4e998",
   "metadata": {},
   "source": [
    "##### 14. Write a python program which will accept a digit and print All the numbers before it till 0\n",
    "\n"
   ]
  },
  {
   "cell_type": "code",
   "execution_count": 12,
   "id": "5731fc6c",
   "metadata": {},
   "outputs": [
    {
     "name": "stdout",
     "output_type": "stream",
     "text": [
      "Enter a number, so that you can get all the numbers which are before it till zero.\n",
      "Provide a number : 7\n",
      "7\n",
      "6\n",
      "5\n",
      "4\n",
      "3\n",
      "2\n",
      "1\n",
      "0\n"
     ]
    }
   ],
   "source": [
    "print(\"Enter a number, so that you can get all the numbers which are before it till zero.\")\n",
    "number=int(input(\"Provide a number : \"))\n",
    "\n",
    "while number>=0:\n",
    "    print(number)\n",
    "    number-=1\n"
   ]
  },
  {
   "cell_type": "markdown",
   "id": "4689ce1b",
   "metadata": {},
   "source": [
    "##### 15. Create a dynamic calculator which will run continuasly till you press “c”\n"
   ]
  },
  {
   "cell_type": "code",
   "execution_count": 13,
   "id": "1ae5d347",
   "metadata": {},
   "outputs": [
    {
     "name": "stdout",
     "output_type": "stream",
     "text": [
      "num 1 : 2\n",
      "choose any symbol from +,-,*,/ : *\n",
      "num 2 : 3\n",
      "2 * 3 = 6\n",
      "Press c to close : c\n"
     ]
    }
   ],
   "source": [
    "a=int(input(\"num 1 : \"))\n",
    "x=input(\"choose any symbol from +,-,*,/ : \")\n",
    "b=int(input(\"num 2 : \"))\n",
    "while True:\n",
    "    if x==\"+\":\n",
    "        print(\"{} {} {} = {}\".format(a,x,b,a+b))\n",
    "    elif x==\"-\":\n",
    "        print(\"{} {} {} = {}\".format(a,x,b,a-b))\n",
    "    elif x==\"*\":\n",
    "        print(\"{} {} {} = {}\".format(a,x,b,a*b))\n",
    "    elif x==\"/\":\n",
    "        print(\"{} {} {} = {}\".format(a,x,b,a/b))\n",
    "    new=input(\"Press c to close : \")\n",
    "    if new==\"c\" or new==\"C\":\n",
    "        break"
   ]
  },
  {
   "cell_type": "code",
   "execution_count": null,
   "id": "99bc5743",
   "metadata": {},
   "outputs": [],
   "source": []
  }
 ],
 "metadata": {
  "kernelspec": {
   "display_name": "Python 3 (ipykernel)",
   "language": "python",
   "name": "python3"
  },
  "language_info": {
   "codemirror_mode": {
    "name": "ipython",
    "version": 3
   },
   "file_extension": ".py",
   "mimetype": "text/x-python",
   "name": "python",
   "nbconvert_exporter": "python",
   "pygments_lexer": "ipython3",
   "version": "3.9.13"
  }
 },
 "nbformat": 4,
 "nbformat_minor": 5
}
